{
  "cells": [
    {
      "cell_type": "markdown",
      "metadata": {},
      "source": [
        "[![Open In Colab](https://colab.research.google.com/assets/colab-badge.svg)](https://colab.research.google.com/github/000alen/Phaedra/blob/master/Phaedra_LocalMode.ipynb)"
      ]
    },
    {
      "cell_type": "markdown",
      "metadata": {},
      "source": [
        "Download Phaedra and install backend requirements"
      ]
    },
    {
      "cell_type": "code",
      "execution_count": null,
      "metadata": {
        "colab": {
          "base_uri": "https://localhost:8080/"
        },
        "id": "Ru8Jt6d_g00z",
        "outputId": "ec6f1e43-6844-4bf3-e080-a5bebe492083"
      },
      "outputs": [],
      "source": [
        "!git clone https://github.com/000alen/Phaedra.git\n",
        "!pip install -r Phaedra/backend/requirements.txt"
      ]
    },
    {
      "cell_type": "markdown",
      "metadata": {},
      "source": [
        "Update Phaedra"
      ]
    },
    {
      "cell_type": "code",
      "execution_count": null,
      "metadata": {},
      "outputs": [],
      "source": [
        "!git -C Phaedra pull"
      ]
    },
    {
      "cell_type": "markdown",
      "metadata": {},
      "source": [
        "Add Phaedra to path"
      ]
    },
    {
      "cell_type": "code",
      "execution_count": null,
      "metadata": {
        "id": "vyP1m9LDj-QV"
      },
      "outputs": [],
      "source": [
        "import sys\n",
        "sys.path.append(\"./Phaedra/backend\")"
      ]
    },
    {
      "cell_type": "markdown",
      "metadata": {},
      "source": [
        "Run Phaedra backend"
      ]
    },
    {
      "cell_type": "code",
      "execution_count": null,
      "metadata": {
        "id": "URM0X3qxjcZ5"
      },
      "outputs": [],
      "source": [
        "from Phaedra.API import run_remote\n",
        "\n",
        "run_remote()"
      ]
    }
  ],
  "metadata": {
    "colab": {
      "name": "Phaedra.ipynb",
      "provenance": []
    },
    "kernelspec": {
      "display_name": "Python 3",
      "name": "python3"
    },
    "language_info": {
      "name": "python"
    }
  },
  "nbformat": 4,
  "nbformat_minor": 2
}
