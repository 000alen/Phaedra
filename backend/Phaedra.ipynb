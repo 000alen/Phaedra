{
  "nbformat": 4,
  "nbformat_minor": 2,
  "metadata": {
    "colab": {
      "name": "Phaedra.ipynb",
      "provenance": []
    },
    "kernelspec": {
      "name": "python3",
      "display_name": "Python 3"
    },
    "language_info": {
      "name": "python"
    }
  },
  "cells": [
    {
      "cell_type": "markdown",
      "source": [
        "Download Phaedra and install backend requirements"
      ],
      "metadata": {}
    },
    {
      "cell_type": "code",
      "execution_count": null,
      "source": [
        "!git clone https://github.com/000alen/Phaedra.git\r\n",
        "!pip install -r Phaedra/backend/requirements.txt"
      ],
      "outputs": [],
      "metadata": {
        "colab": {
          "base_uri": "https://localhost:8080/"
        },
        "id": "Ru8Jt6d_g00z",
        "outputId": "ec6f1e43-6844-4bf3-e080-a5bebe492083"
      }
    },
    {
      "cell_type": "markdown",
      "source": [
        "Update Phaedra"
      ],
      "metadata": {}
    },
    {
      "cell_type": "code",
      "execution_count": null,
      "source": [
        "!git -C Phaedra pull"
      ],
      "outputs": [],
      "metadata": {}
    },
    {
      "cell_type": "markdown",
      "source": [
        "Add Phaedra to path"
      ],
      "metadata": {}
    },
    {
      "cell_type": "code",
      "execution_count": null,
      "source": [
        "import sys\r\n",
        "sys.path.append(\"./Phaedra/backend\")"
      ],
      "outputs": [],
      "metadata": {
        "id": "vyP1m9LDj-QV"
      }
    },
    {
      "cell_type": "markdown",
      "source": [
        "Download NLTK data"
      ],
      "metadata": {}
    },
    {
      "cell_type": "code",
      "execution_count": null,
      "source": [
        "import install_nltk_data"
      ],
      "outputs": [],
      "metadata": {
        "id": "avODHdiskM3j"
      }
    },
    {
      "cell_type": "markdown",
      "source": [
        "Run Phaedra backend"
      ],
      "metadata": {}
    },
    {
      "cell_type": "code",
      "execution_count": null,
      "source": [
        "from Phaedra.API import run_remote\r\n",
        "\r\n",
        "run_remote()"
      ],
      "outputs": [],
      "metadata": {
        "id": "URM0X3qxjcZ5"
      }
    }
  ]
}
